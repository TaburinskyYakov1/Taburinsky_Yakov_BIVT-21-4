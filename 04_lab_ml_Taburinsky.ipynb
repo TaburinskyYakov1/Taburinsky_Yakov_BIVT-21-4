{
 "cells": [
  {
   "cell_type": "markdown",
   "id": "bc9520d2",
   "metadata": {},
   "source": [
    "# Лабораторная работа №4\n",
    "\n",
    "<b>ФИО:</b> Табуринский Яков Андреевич  \n",
    "<b>Группа:</b> БИВТ-21-4\n",
    "\n",
    "Теперь по пунктам, что я от вас жду:  \n",
    "1. Загрузить необходимые данные к себе и считать (read) их в переменную.\n",
    "2. Понять, у вас задача классификации (бинарной или многоклассовой) или регрессии.\n",
    "3. Сделать предобработку данных:  \n",
    "     1. Разделить выборку на тренировочную (train) и тестовую (test). _Обратите внимание, что обучать скейлеры и определять, какими значениями вы будете заполнять пропуски, вы будете на train выборке, а применять и на train, и на test_.\n",
    "     2. Проверить пропуски в данных. Если они есть, заполнить одной из стратегий, предложенных в ноутбуке для семинара №3. P.S. Для численных и категориальных переменных будут разные стратегии.\n",
    "     3. Отнормировать численные переменные (`StandardScaler`, `MinMaxScaler`).\n",
    "     4. Закодировать категориальные признаки по одной из стратегий.\n",
    "4. Оформить данные в виде класса `Dataset` из библиотеки `torch` (как мы это делали на семинаре), а затем засунуть в `Dataloader` (тоже делали на семинаре).\n",
    "5. Обучить на тренировочном множестве:\n",
    "     1. Очень простую однослойную нейросеть с оптимизатором `SGD` ([link](https://pytorch.org/docs/stable/optim.html)).\n",
    "     2. Нейросеть посложнее (с 1 скрытым слоем) с оптимизатором `Adam` ([link](https://pytorch.org/docs/stable/optim.html)).\n",
    "     3. Нейросеть еще сложнее (с 3+ скрытыми слоями) с оптимизатором `Adam` ([link](https://pytorch.org/docs/stable/optim.html)).\n",
    "6. Посчитайте loss на train и test множествах, в зависимости от эпохи обучения. Провизуализируйте это с помощью библиотеки `matplotlib` (выйдет так называемая **learning curve**, кривая обучения модели).\n",
    "6. Посчитайте метрики на train и test множествах:\n",
    "     1. Для задачи классификации -- Accuracy\n",
    "     2. Для задачи регрессии -- MAE\n",
    "7. Сравните метрики относительно train/test, так и относительно разных моделей. Ответьте на следующие вопросы:\n",
    "     1. Какая модель справилась лучше с поставленной задачей?\n",
    "     2. Имеет ли место переобучение?\n",
    "     3. Имеет ли место недообучение?\n",
    "     4. Как можно улучшить метрики моделей?"
   ]
  },
  {
   "cell_type": "code",
   "id": "9a7805f5",
   "metadata": {
    "ExecuteTime": {
     "end_time": "2024-05-28T16:57:59.038256Z",
     "start_time": "2024-05-28T16:57:59.034604Z"
    }
   },
   "source": [
    "from sklearn.model_selection import train_test_split\n",
    "from sklearn.preprocessing import MinMaxScaler\n",
    "import pandas as pd\n",
    "import matplotlib.pyplot as plt\n",
    "import numpy as np\n",
    "import seaborn as sns\n",
    "import torch"
   ],
   "outputs": [],
   "execution_count": 454
  },
  {
   "cell_type": "markdown",
   "id": "28b51062",
   "metadata": {},
   "source": [
    "# 1. Импорт данных"
   ]
  },
  {
   "cell_type": "code",
   "id": "406597a7",
   "metadata": {
    "ExecuteTime": {
     "end_time": "2024-05-28T16:57:59.759675Z",
     "start_time": "2024-05-28T16:57:59.371846Z"
    }
   },
   "source": "data = pd.read_csv('https://github.com/TaburinskyYakov1/Taburinsky_Yakov_BIVT-21-4/raw/main/insurance.csv')",
   "outputs": [],
   "execution_count": 455
  },
  {
   "cell_type": "markdown",
   "id": "0d119028",
   "metadata": {},
   "source": [
    "# 2. Тип задачи"
   ]
  },
  {
   "cell_type": "code",
   "id": "3c2225f5",
   "metadata": {
    "ExecuteTime": {
     "end_time": "2024-05-28T16:57:59.768819Z",
     "start_time": "2024-05-28T16:57:59.760681Z"
    }
   },
   "source": [
    "data.head()"
   ],
   "outputs": [
    {
     "data": {
      "text/plain": [
       "   age     sex     bmi  children smoker     region      charges\n",
       "0   19  female  27.900         0    yes  southwest  16884.92400\n",
       "1   18    male  33.770         1     no  southeast   1725.55230\n",
       "2   28    male  33.000         3     no  southeast   4449.46200\n",
       "3   33    male  22.705         0     no  northwest  21984.47061\n",
       "4   32    male  28.880         0     no  northwest   3866.85520"
      ],
      "text/html": [
       "<div>\n",
       "<style scoped>\n",
       "    .dataframe tbody tr th:only-of-type {\n",
       "        vertical-align: middle;\n",
       "    }\n",
       "\n",
       "    .dataframe tbody tr th {\n",
       "        vertical-align: top;\n",
       "    }\n",
       "\n",
       "    .dataframe thead th {\n",
       "        text-align: right;\n",
       "    }\n",
       "</style>\n",
       "<table border=\"1\" class=\"dataframe\">\n",
       "  <thead>\n",
       "    <tr style=\"text-align: right;\">\n",
       "      <th></th>\n",
       "      <th>age</th>\n",
       "      <th>sex</th>\n",
       "      <th>bmi</th>\n",
       "      <th>children</th>\n",
       "      <th>smoker</th>\n",
       "      <th>region</th>\n",
       "      <th>charges</th>\n",
       "    </tr>\n",
       "  </thead>\n",
       "  <tbody>\n",
       "    <tr>\n",
       "      <th>0</th>\n",
       "      <td>19</td>\n",
       "      <td>female</td>\n",
       "      <td>27.900</td>\n",
       "      <td>0</td>\n",
       "      <td>yes</td>\n",
       "      <td>southwest</td>\n",
       "      <td>16884.92400</td>\n",
       "    </tr>\n",
       "    <tr>\n",
       "      <th>1</th>\n",
       "      <td>18</td>\n",
       "      <td>male</td>\n",
       "      <td>33.770</td>\n",
       "      <td>1</td>\n",
       "      <td>no</td>\n",
       "      <td>southeast</td>\n",
       "      <td>1725.55230</td>\n",
       "    </tr>\n",
       "    <tr>\n",
       "      <th>2</th>\n",
       "      <td>28</td>\n",
       "      <td>male</td>\n",
       "      <td>33.000</td>\n",
       "      <td>3</td>\n",
       "      <td>no</td>\n",
       "      <td>southeast</td>\n",
       "      <td>4449.46200</td>\n",
       "    </tr>\n",
       "    <tr>\n",
       "      <th>3</th>\n",
       "      <td>33</td>\n",
       "      <td>male</td>\n",
       "      <td>22.705</td>\n",
       "      <td>0</td>\n",
       "      <td>no</td>\n",
       "      <td>northwest</td>\n",
       "      <td>21984.47061</td>\n",
       "    </tr>\n",
       "    <tr>\n",
       "      <th>4</th>\n",
       "      <td>32</td>\n",
       "      <td>male</td>\n",
       "      <td>28.880</td>\n",
       "      <td>0</td>\n",
       "      <td>no</td>\n",
       "      <td>northwest</td>\n",
       "      <td>3866.85520</td>\n",
       "    </tr>\n",
       "  </tbody>\n",
       "</table>\n",
       "</div>"
      ]
     },
     "execution_count": 456,
     "metadata": {},
     "output_type": "execute_result"
    }
   ],
   "execution_count": 456
  },
  {
   "cell_type": "code",
   "id": "d92464d0",
   "metadata": {
    "ExecuteTime": {
     "end_time": "2024-05-28T16:57:59.955549Z",
     "start_time": "2024-05-28T16:57:59.769830Z"
    }
   },
   "source": [
    "import seaborn as sns\n",
    "import matplotlib.pyplot as plt\n",
    "\n",
    "# Установка зеленого цвета\n",
    "color = 'green'\n",
    "\n",
    "# Настройка общего стиля графика\n",
    "sns.set_style(\"dark\")\n",
    "\n",
    "# Построение гистограммы с указанием цвета и другими параметрами\n",
    "sns.histplot(data=data, x='charges', bins=10, color=color, edgecolor='black', linewidth=5)\n",
    "plt.title(\"Распределение затрат\")\n",
    "plt.xlabel(\"Затраты\")\n",
    "plt.ylabel(\"Частота\")\n",
    "plt.grid(True, axis='y', linestyle='--', color='gray', linewidth=0.5)\n",
    "\n",
    "plt.show()"
   ],
   "outputs": [
    {
     "data": {
      "text/plain": [
       "<Figure size 640x480 with 1 Axes>"
      ],
      "image/png": "[encoded data removed]"
     },
     "metadata": {},
     "output_type": "display_data"
    }
   ],
   "execution_count": 457
  },
  {
   "cell_type": "markdown",
   "id": "e9c94eb5",
   "metadata": {},
   "source": [
    "Перед нами задача регрессии."
   ]
  },
  {
   "cell_type": "markdown",
   "id": "34931f43",
   "metadata": {},
   "source": [
    "# 3. Предобработка данных"
   ]
  },
  {
   "cell_type": "markdown",
   "id": "a9f725fc",
   "metadata": {},
   "source": [
    "## Логарифмирование"
   ]
  },
  {
   "cell_type": "code",
   "id": "46748904",
   "metadata": {
    "ExecuteTime": {
     "end_time": "2024-05-28T16:58:00.164209Z",
     "start_time": "2024-05-28T16:57:59.956566Z"
    }
   },
   "source": [
    "import seaborn as sns\n",
    "import matplotlib.pyplot as plt\n",
    "import numpy as np\n",
    "\n",
    "# Логарифмирование значений 'charges'\n",
    "data['charges'] = np.log(data['charges'])\n",
    "\n",
    "# Установка зеленого цвета\n",
    "color = 'green'\n",
    "\n",
    "# Настройка общего стиля графика\n",
    "sns.set_style(\"dark\")\n",
    "\n",
    "# Построение гистограммы с указанием цвета и другими параметрами\n",
    "sns.histplot(data=data, x='charges', bins=10, color=color, edgecolor='black', linewidth=5)\n",
    "plt.title(\"Распределение логарифмированных затрат\")\n",
    "plt.xlabel(\"Логарифмированные затраты\")\n",
    "plt.ylabel(\"Частота\")\n",
    "plt.grid(True, axis='y', linestyle='--', color='gray', linewidth=0.5)"
   ],
   "outputs": [
    {
     "data": {
      "text/plain": [
       "<Figure size 640x480 with 1 Axes>"
      ],
      "image/png": "[encoded data removed]"
     },
     "metadata": {},
     "output_type": "display_data"
    }
   ],
   "execution_count": 458
  },
  {
   "cell_type": "code",
   "id": "e3f679a9",
   "metadata": {
    "ExecuteTime": {
     "end_time": "2024-05-28T16:58:00.177608Z",
     "start_time": "2024-05-28T16:58:00.165720Z"
    }
   },
   "source": [
    "data"
   ],
   "outputs": [
    {
     "data": {
      "text/plain": [
       "      age     sex     bmi  children smoker     region    charges\n",
       "0      19  female  27.900         0    yes  southwest   9.734176\n",
       "1      18    male  33.770         1     no  southeast   7.453302\n",
       "2      28    male  33.000         3     no  southeast   8.400538\n",
       "3      33    male  22.705         0     no  northwest   9.998092\n",
       "4      32    male  28.880         0     no  northwest   8.260197\n",
       "...   ...     ...     ...       ...    ...        ...        ...\n",
       "1333   50    male  30.970         3     no  northwest   9.268661\n",
       "1334   18  female  31.920         0     no  northeast   7.698927\n",
       "1335   18  female  36.850         0     no  southeast   7.396233\n",
       "1336   21  female  25.800         0     no  southwest   7.604867\n",
       "1337   61  female  29.070         0    yes  northwest  10.279914\n",
       "\n",
       "[1338 rows x 7 columns]"
      ],
      "text/html": [
       "<div>\n",
       "<style scoped>\n",
       "    .dataframe tbody tr th:only-of-type {\n",
       "        vertical-align: middle;\n",
       "    }\n",
       "\n",
       "    .dataframe tbody tr th {\n",
       "        vertical-align: top;\n",
       "    }\n",
       "\n",
       "    .dataframe thead th {\n",
       "        text-align: right;\n",
       "    }\n",
       "</style>\n",
       "<table border=\"1\" class=\"dataframe\">\n",
       "  <thead>\n",
       "    <tr style=\"text-align: right;\">\n",
       "      <th></th>\n",
       "      <th>age</th>\n",
       "      <th>sex</th>\n",
       "      <th>bmi</th>\n",
       "      <th>children</th>\n",
       "      <th>smoker</th>\n",
       "      <th>region</th>\n",
       "      <th>charges</th>\n",
       "    </tr>\n",
       "  </thead>\n",
       "  <tbody>\n",
       "    <tr>\n",
       "      <th>0</th>\n",
       "      <td>19</td>\n",
       "      <td>female</td>\n",
       "      <td>27.900</td>\n",
       "      <td>0</td>\n",
       "      <td>yes</td>\n",
       "      <td>southwest</td>\n",
       "      <td>9.734176</td>\n",
       "    </tr>\n",
       "    <tr>\n",
       "      <th>1</th>\n",
       "      <td>18</td>\n",
       "      <td>male</td>\n",
       "      <td>33.770</td>\n",
       "      <td>1</td>\n",
       "      <td>no</td>\n",
       "      <td>southeast</td>\n",
       "      <td>7.453302</td>\n",
       "    </tr>\n",
       "    <tr>\n",
       "      <th>2</th>\n",
       "      <td>28</td>\n",
       "      <td>male</td>\n",
       "      <td>33.000</td>\n",
       "      <td>3</td>\n",
       "      <td>no</td>\n",
       "      <td>southeast</td>\n",
       "      <td>8.400538</td>\n",
       "    </tr>\n",
       "    <tr>\n",
       "      <th>3</th>\n",
       "      <td>33</td>\n",
       "      <td>male</td>\n",
       "      <td>22.705</td>\n",
       "      <td>0</td>\n",
       "      <td>no</td>\n",
       "      <td>northwest</td>\n",
       "      <td>9.998092</td>\n",
       "    </tr>\n",
       "    <tr>\n",
       "      <th>4</th>\n",
       "      <td>32</td>\n",
       "      <td>male</td>\n",
       "      <td>28.880</td>\n",
       "      <td>0</td>\n",
       "      <td>no</td>\n",
       "      <td>northwest</td>\n",
       "      <td>8.260197</td>\n",
       "    </tr>\n",
       "    <tr>\n",
       "      <th>...</th>\n",
       "      <td>...</td>\n",
       "      <td>...</td>\n",
       "      <td>...</td>\n",
       "      <td>...</td>\n",
       "      <td>...</td>\n",
       "      <td>...</td>\n",
       "      <td>...</td>\n",
       "    </tr>\n",
       "    <tr>\n",
       "      <th>1333</th>\n",
       "      <td>50</td>\n",
       "      <td>male</td>\n",
       "      <td>30.970</td>\n",
       "      <td>3</td>\n",
       "      <td>no</td>\n",
       "      <td>northwest</td>\n",
       "      <td>9.268661</td>\n",
       "    </tr>\n",
       "    <tr>\n",
       "      <th>1334</th>\n",
       "      <td>18</td>\n",
       "      <td>female</td>\n",
       "      <td>31.920</td>\n",
       "      <td>0</td>\n",
       "      <td>no</td>\n",
       "      <td>northeast</td>\n",
       "      <td>7.698927</td>\n",
       "    </tr>\n",
       "    <tr>\n",
       "      <th>1335</th>\n",
       "      <td>18</td>\n",
       "      <td>female</td>\n",
       "      <td>36.850</td>\n",
       "      <td>0</td>\n",
       "      <td>no</td>\n",
       "      <td>southeast</td>\n",
       "      <td>7.396233</td>\n",
       "    </tr>\n",
       "    <tr>\n",
       "      <th>1336</th>\n",
       "      <td>21</td>\n",
       "      <td>female</td>\n",
       "      <td>25.800</td>\n",
       "      <td>0</td>\n",
       "      <td>no</td>\n",
       "      <td>southwest</td>\n",
       "      <td>7.604867</td>\n",
       "    </tr>\n",
       "    <tr>\n",
       "      <th>1337</th>\n",
       "      <td>61</td>\n",
       "      <td>female</td>\n",
       "      <td>29.070</td>\n",
       "      <td>0</td>\n",
       "      <td>yes</td>\n",
       "      <td>northwest</td>\n",
       "      <td>10.279914</td>\n",
       "    </tr>\n",
       "  </tbody>\n",
       "</table>\n",
       "<p>1338 rows × 7 columns</p>\n",
       "</div>"
      ]
     },
     "execution_count": 459,
     "metadata": {},
     "output_type": "execute_result"
    }
   ],
   "execution_count": 459
  },
  {
   "cell_type": "markdown",
   "id": "003e5dc9",
   "metadata": {},
   "source": [
    "## Проверка и ликвидация пропусков"
   ]
  },
  {
   "cell_type": "code",
   "id": "2ae69cc8",
   "metadata": {
    "ExecuteTime": {
     "end_time": "2024-05-28T16:58:00.216416Z",
     "start_time": "2024-05-28T16:58:00.178614Z"
    }
   },
   "source": [
    "data.isnull().sum()"
   ],
   "outputs": [
    {
     "data": {
      "text/plain": [
       "age         0\n",
       "sex         0\n",
       "bmi         0\n",
       "children    0\n",
       "smoker      0\n",
       "region      0\n",
       "charges     0\n",
       "dtype: int64"
      ]
     },
     "execution_count": 460,
     "metadata": {},
     "output_type": "execute_result"
    }
   ],
   "execution_count": 460
  },
  {
   "cell_type": "markdown",
   "id": "3af98eb7",
   "metadata": {},
   "source": [
    "## Кодирование категориальных данных"
   ]
  },
  {
   "cell_type": "code",
   "id": "e1ba3fee",
   "metadata": {
    "ExecuteTime": {
     "end_time": "2024-05-28T16:58:00.240608Z",
     "start_time": "2024-05-28T16:58:00.217420Z"
    }
   },
   "source": [
    "from sklearn.preprocessing import LabelEncoder\n",
    "\n",
    "data['sex'] = LabelEncoder().fit_transform(data['sex'])\n",
    "data['smoker'] = LabelEncoder().fit_transform(data['smoker'])\n",
    "data['region'] = LabelEncoder().fit_transform(data['region'])"
   ],
   "outputs": [],
   "execution_count": 461
  },
  {
   "cell_type": "markdown",
   "id": "023e53a9",
   "metadata": {},
   "source": [
    "## Разделение выборки на тренировочную и тестовую"
   ]
  },
  {
   "cell_type": "code",
   "id": "1193dd5c",
   "metadata": {
    "ExecuteTime": {
     "end_time": "2024-05-28T16:58:00.281426Z",
     "start_time": "2024-05-28T16:58:00.241629Z"
    }
   },
   "source": [
    "X = data.drop(['charges'], axis=1)\n",
    "y = data['charges']\n",
    "\n",
    "X_train, X_test, y_train, y_test = train_test_split(X, y, test_size = 0.2)"
   ],
   "outputs": [],
   "execution_count": 462
  },
  {
   "cell_type": "code",
   "id": "7c80138a",
   "metadata": {
    "ExecuteTime": {
     "end_time": "2024-05-28T16:58:00.298036Z",
     "start_time": "2024-05-28T16:58:00.282435Z"
    }
   },
   "source": [
    "print(\"X_train shape:\", X_train.shape)\n",
    "print(\"X_test shape:\", X_test.shape)\n",
    "print(\"y_train shape:\", y_train.shape)\n",
    "print(\"y_test shape:\", y_test.shape)"
   ],
   "outputs": [
    {
     "name": "stdout",
     "output_type": "stream",
     "text": [
      "X_train shape: (1070, 6)\n",
      "X_test shape: (268, 6)\n",
      "y_train shape: (1070,)\n",
      "y_test shape: (268,)\n"
     ]
    }
   ],
   "execution_count": 463
  },
  {
   "cell_type": "markdown",
   "id": "e5375782",
   "metadata": {},
   "source": [
    "## Нормирование численных переменных"
   ]
  },
  {
   "cell_type": "code",
   "id": "a9d622f5",
   "metadata": {
    "ExecuteTime": {
     "end_time": "2024-05-28T16:58:00.318789Z",
     "start_time": "2024-05-28T16:58:00.299045Z"
    }
   },
   "source": [
    "scaler = MinMaxScaler()\n",
    "\n",
    "X_train = scaler.fit_transform(X_train)\n",
    "X_test = scaler.transform(X_test)"
   ],
   "outputs": [],
   "execution_count": 464
  },
  {
   "cell_type": "markdown",
   "id": "3d8727da",
   "metadata": {},
   "source": []
  },
  {
   "cell_type": "code",
   "id": "ac2d762c",
   "metadata": {
    "ExecuteTime": {
     "end_time": "2024-05-28T16:58:00.346353Z",
     "start_time": "2024-05-28T16:58:00.319796Z"
    }
   },
   "source": [
    "X_train_df = pd.DataFrame(X_train)\n",
    "y_train_df = pd.DataFrame(y_train)\n",
    "X_test_df = pd.DataFrame(X_test)\n",
    "y_test_df = pd.DataFrame(y_test)"
   ],
   "outputs": [],
   "execution_count": 465
  },
  {
   "cell_type": "markdown",
   "id": "0270f5f9",
   "metadata": {},
   "source": [
    "# 4. Класс Datasets"
   ]
  },
  {
   "cell_type": "code",
   "id": "c14c1cf2",
   "metadata": {
    "ExecuteTime": {
     "end_time": "2024-05-28T16:58:00.366592Z",
     "start_time": "2024-05-28T16:58:00.347435Z"
    }
   },
   "source": [
    "import torch\n",
    "from torch.utils.data import Dataset, DataLoader\n",
    "import matplotlib.pyplot as plt\n",
    "from sklearn.model_selection import train_test_split\n",
    "from torchvision.transforms import ToTensor, Normalize, Lambda\n",
    "import copy\n",
    "import datetime as dt\n",
    "import pandas as pd\n",
    "import numpy as np"
   ],
   "outputs": [],
   "execution_count": 466
  },
  {
   "cell_type": "code",
   "id": "e097f0c8",
   "metadata": {
    "ExecuteTime": {
     "end_time": "2024-05-28T16:58:00.387790Z",
     "start_time": "2024-05-28T16:58:00.367996Z"
    }
   },
   "source": [
    "class CustomDataset(Dataset):\n",
    "    def __init__(self, data, targets):\n",
    "        self.data = data.select_dtypes(include=[np.number])\n",
    "        self.targets = targets\n",
    "\n",
    "    def __len__(self):\n",
    "        return len(self.data)\n",
    "\n",
    "    def __getitem__(self, index):\n",
    "        x = torch.tensor(self.data.iloc[index], dtype=torch.float32)\n",
    "        y = torch.tensor(self.targets.iloc[index], dtype=torch.float32)\n",
    "\n",
    "        return x, y"
   ],
   "outputs": [],
   "execution_count": 467
  },
  {
   "cell_type": "code",
   "id": "a022a21a",
   "metadata": {
    "ExecuteTime": {
     "end_time": "2024-05-28T16:58:00.417572Z",
     "start_time": "2024-05-28T16:58:00.390799Z"
    }
   },
   "source": [
    "train_dataset = CustomDataset(X_train_df, y_train_df)\n",
    "test_dataset = CustomDataset(X_test_df, y_test_df)"
   ],
   "outputs": [],
   "execution_count": 468
  },
  {
   "cell_type": "code",
   "id": "8258d5d8",
   "metadata": {
    "ExecuteTime": {
     "end_time": "2024-05-28T16:58:00.444286Z",
     "start_time": "2024-05-28T16:58:00.418580Z"
    }
   },
   "source": [
    "train_loader = DataLoader(train_dataset, batch_size=64, shuffle=True)\n",
    "test_loader = DataLoader(test_dataset, batch_size=64, shuffle=False)"
   ],
   "outputs": [],
   "execution_count": 469
  },
  {
   "cell_type": "code",
   "id": "d25b499a",
   "metadata": {
    "ExecuteTime": {
     "end_time": "2024-05-28T16:58:00.504158Z",
     "start_time": "2024-05-28T16:58:00.445790Z"
    }
   },
   "source": [
    "for xb, yb in train_loader:\n",
    "    print(\"inputs:\", xb)\n",
    "    print(\"targets:\", yb)\n",
    "    break"
   ],
   "outputs": [
    {
     "name": "stdout",
     "output_type": "stream",
     "text": [
      "inputs: tensor([[0.0217, 1.0000, 0.5145, 0.0000, 1.0000, 1.0000],\n",
      "        [0.8043, 1.0000, 0.3807, 0.0000, 0.0000, 1.0000],\n",
      "        [0.0870, 1.0000, 0.4306, 0.0000, 0.0000, 0.0000],\n",
      "        [0.7174, 1.0000, 0.4462, 0.2000, 0.0000, 0.0000],\n",
      "        [0.4130, 1.0000, 0.5524, 0.0000, 0.0000, 0.6667],\n",
      "        [0.9348, 0.0000, 0.4743, 0.8000, 0.0000, 0.6667],\n",
      "        [0.0435, 0.0000, 0.1764, 0.0000, 1.0000, 0.3333],\n",
      "        [0.0217, 1.0000, 0.2750, 0.2000, 1.0000, 0.3333],\n",
      "        [0.3261, 0.0000, 0.0856, 0.4000, 1.0000, 0.0000],\n",
      "        [0.3261, 0.0000, 0.0694, 0.2000, 0.0000, 1.0000],\n",
      "        [0.5652, 1.0000, 0.1686, 0.4000, 0.0000, 0.0000],\n",
      "        [0.0000, 1.0000, 0.6330, 0.0000, 0.0000, 0.0000],\n",
      "        [0.2391, 1.0000, 0.4747, 0.4000, 0.0000, 0.3333],\n",
      "        [0.0000, 1.0000, 0.4954, 0.0000, 0.0000, 0.6667],\n",
      "        [0.2826, 1.0000, 0.3424, 1.0000, 0.0000, 0.0000],\n",
      "        [0.5870, 0.0000, 0.3191, 0.2000, 0.0000, 0.3333],\n",
      "        [0.0217, 1.0000, 0.5309, 0.0000, 0.0000, 1.0000],\n",
      "        [0.0652, 0.0000, 0.2851, 0.2000, 0.0000, 1.0000],\n",
      "        [0.9565, 0.0000, 0.6045, 0.4000, 0.0000, 0.0000],\n",
      "        [0.4783, 1.0000, 0.2460, 0.4000, 0.0000, 0.6667],\n",
      "        [0.7609, 1.0000, 0.4151, 0.2000, 0.0000, 0.3333],\n",
      "        [0.5435, 1.0000, 0.5284, 0.4000, 0.0000, 0.6667],\n",
      "        [0.0217, 0.0000, 0.6701, 0.0000, 0.0000, 1.0000],\n",
      "        [0.0870, 1.0000, 0.3372, 0.2000, 0.0000, 0.3333],\n",
      "        [0.1739, 0.0000, 0.3812, 0.2000, 0.0000, 0.6667],\n",
      "        [0.4130, 1.0000, 0.4073, 0.6000, 0.0000, 0.3333],\n",
      "        [0.1957, 0.0000, 0.0545, 0.4000, 1.0000, 0.0000],\n",
      "        [0.8261, 1.0000, 0.4410, 0.2000, 0.0000, 0.0000],\n",
      "        [0.2609, 0.0000, 0.3398, 0.2000, 0.0000, 0.3333],\n",
      "        [0.5000, 1.0000, 0.4435, 0.4000, 0.0000, 1.0000],\n",
      "        [0.2609, 1.0000, 0.1920, 0.4000, 1.0000, 0.3333],\n",
      "        [0.9348, 0.0000, 0.2490, 0.0000, 0.0000, 0.6667],\n",
      "        [0.1739, 0.0000, 0.6615, 0.0000, 0.0000, 0.3333],\n",
      "        [0.1304, 1.0000, 0.3424, 0.0000, 1.0000, 0.0000],\n",
      "        [0.7174, 0.0000, 0.0571, 0.0000, 0.0000, 0.3333],\n",
      "        [0.6522, 0.0000, 0.1868, 0.0000, 0.0000, 1.0000],\n",
      "        [0.9348, 1.0000, 0.4462, 0.4000, 0.0000, 0.3333],\n",
      "        [0.0870, 1.0000, 0.5915, 0.2000, 1.0000, 0.6667],\n",
      "        [0.3261, 0.0000, 0.4790, 0.0000, 1.0000, 1.0000],\n",
      "        [0.5217, 0.0000, 0.4618, 0.0000, 0.0000, 0.0000],\n",
      "        [0.2826, 1.0000, 0.4125, 0.6000, 0.0000, 0.3333],\n",
      "        [0.0870, 0.0000, 0.2277, 0.0000, 0.0000, 1.0000],\n",
      "        [0.2609, 0.0000, 0.3269, 0.0000, 0.0000, 0.0000],\n",
      "        [0.8261, 0.0000, 0.3069, 0.0000, 0.0000, 1.0000],\n",
      "        [0.6304, 1.0000, 0.5524, 0.0000, 1.0000, 0.6667],\n",
      "        [0.2826, 1.0000, 0.3450, 0.2000, 0.0000, 0.3333],\n",
      "        [0.1087, 1.0000, 0.9399, 0.2000, 0.0000, 0.6667],\n",
      "        [0.1304, 0.0000, 0.4747, 0.0000, 0.0000, 0.3333],\n",
      "        [0.8043, 1.0000, 0.1513, 0.2000, 0.0000, 1.0000],\n",
      "        [0.5217, 0.0000, 0.5526, 0.2000, 0.0000, 0.3333],\n",
      "        [0.0217, 1.0000, 0.5035, 0.0000, 0.0000, 1.0000],\n",
      "        [0.4130, 1.0000, 0.4954, 0.8000, 1.0000, 1.0000],\n",
      "        [0.2391, 1.0000, 0.6275, 0.2000, 0.0000, 0.6667],\n",
      "        [0.0000, 0.0000, 0.5370, 0.0000, 0.0000, 0.0000],\n",
      "        [0.2826, 0.0000, 0.2086, 0.4000, 0.0000, 1.0000],\n",
      "        [1.0000, 1.0000, 0.2854, 0.0000, 0.0000, 0.0000],\n",
      "        [0.7391, 0.0000, 0.2551, 0.4000, 1.0000, 0.6667],\n",
      "        [0.5435, 0.0000, 0.5396, 0.4000, 0.0000, 0.0000],\n",
      "        [0.6304, 1.0000, 0.4462, 0.2000, 0.0000, 1.0000],\n",
      "        [0.3696, 0.0000, 0.6045, 0.4000, 0.0000, 0.0000],\n",
      "        [0.1739, 1.0000, 0.3087, 0.6000, 0.0000, 0.0000],\n",
      "        [0.2826, 1.0000, 0.5554, 0.4000, 1.0000, 1.0000],\n",
      "        [0.3478, 1.0000, 0.4052, 0.0000, 1.0000, 1.0000],\n",
      "        [0.0000, 1.0000, 0.3372, 0.2000, 0.0000, 0.0000]])\n",
      "targets: tensor([[10.4568],\n",
      "        [ 9.2316],\n",
      "        [ 7.7208],\n",
      "        [ 9.2067],\n",
      "        [ 9.8634],\n",
      "        [10.5073],\n",
      "        [ 9.5964],\n",
      "        [ 9.7081],\n",
      "        [ 9.7277],\n",
      "        [ 8.4693],\n",
      "        [ 9.0243],\n",
      "        [ 9.4642],\n",
      "        [ 9.8752],\n",
      "        [ 7.0362],\n",
      "        [ 8.8246],\n",
      "        [10.2520],\n",
      "        [ 7.1414],\n",
      "        [ 7.8624],\n",
      "        [ 9.6310],\n",
      "        [ 8.7938],\n",
      "        [ 9.2555],\n",
      "        [ 9.8419],\n",
      "        [ 7.4727],\n",
      "        [ 7.8782],\n",
      "        [ 8.1295],\n",
      "        [ 8.8242],\n",
      "        [ 9.6162],\n",
      "        [ 9.3727],\n",
      "        [ 8.4179],\n",
      "        [ 8.8358],\n",
      "        [ 9.7620],\n",
      "        [10.1070],\n",
      "        [ 8.0713],\n",
      "        [10.4673],\n",
      "        [ 9.1741],\n",
      "        [ 9.0203],\n",
      "        [ 9.5553],\n",
      "        [10.5231],\n",
      "        [10.5208],\n",
      "        [ 8.8608],\n",
      "        [ 8.5988],\n",
      "        [ 7.6734],\n",
      "        [ 8.3279],\n",
      "        [ 9.3123],\n",
      "        [10.6377],\n",
      "        [ 8.3532],\n",
      "        [ 7.7990],\n",
      "        [ 7.9570],\n",
      "        [ 9.2866],\n",
      "        [ 8.9151],\n",
      "        [ 7.1403],\n",
      "        [10.6012],\n",
      "        [ 8.1523],\n",
      "        [ 7.7013],\n",
      "        [ 8.5034],\n",
      "        [ 9.5746],\n",
      "        [10.1132],\n",
      "        [ 9.8598],\n",
      "        [ 8.9950],\n",
      "        [10.1232],\n",
      "        [ 8.4470],\n",
      "        [10.5639],\n",
      "        [10.4771],\n",
      "        [ 9.3301]])\n"
     ]
    },
    {
     "name": "stderr",
     "output_type": "stream",
     "text": [
      "C:\\Users\\yakov\\AppData\\Local\\Temp\\ipykernel_6140\\2088720507.py:11: FutureWarning: Series.__getitem__ treating keys as positions is deprecated. In a future version, integer keys will always be treated as labels (consistent with DataFrame behavior). To access a value by position, use `ser.iloc[pos]`\n",
      "  y = torch.tensor(self.targets.iloc[index], dtype=torch.float32)\n"
     ]
    }
   ],
   "execution_count": 470
  },
  {
   "cell_type": "markdown",
   "id": "73f90c8b",
   "metadata": {},
   "source": [
    "# 5. Обучение на тренировочном множестве"
   ]
  },
  {
   "cell_type": "code",
   "id": "937e0c26",
   "metadata": {
    "ExecuteTime": {
     "end_time": "2024-05-28T16:58:00.517053Z",
     "start_time": "2024-05-28T16:58:00.504158Z"
    }
   },
   "source": [
    "from torch import nn"
   ],
   "outputs": [],
   "execution_count": 471
  },
  {
   "cell_type": "markdown",
   "id": "5f3f2dd0",
   "metadata": {},
   "source": [
    "## Однослойная нейросеть"
   ]
  },
  {
   "cell_type": "code",
   "id": "ef0394dc",
   "metadata": {
    "ExecuteTime": {
     "end_time": "2024-05-28T16:58:00.554760Z",
     "start_time": "2024-05-28T16:58:00.518061Z"
    }
   },
   "source": [
    "input_size = 6\n",
    "output_size = 1\n",
    "learning_rate = 1e-2"
   ],
   "outputs": [],
   "execution_count": 472
  },
  {
   "cell_type": "code",
   "id": "92221ee1",
   "metadata": {
    "ExecuteTime": {
     "end_time": "2024-05-28T16:58:00.606529Z",
     "start_time": "2024-05-28T16:58:00.555762Z"
    }
   },
   "source": [
    "first_model = nn.Linear(input_size, output_size)"
   ],
   "outputs": [],
   "execution_count": 473
  },
  {
   "cell_type": "code",
   "id": "330fbffe",
   "metadata": {
    "ExecuteTime": {
     "end_time": "2024-05-28T16:58:00.667364Z",
     "start_time": "2024-05-28T16:58:00.607538Z"
    }
   },
   "source": [
    "loss_fn1 = nn.MSELoss()\n",
    "first_optimizer =  torch.optim.SGD(first_model.parameters(), lr=learning_rate)"
   ],
   "outputs": [],
   "execution_count": 474
  },
  {
   "cell_type": "code",
   "id": "c078a39c",
   "metadata": {
    "ExecuteTime": {
     "end_time": "2024-05-28T16:58:00.737713Z",
     "start_time": "2024-05-28T16:58:00.668370Z"
    }
   },
   "source": [
    "first_model.train()"
   ],
   "outputs": [
    {
     "data": {
      "text/plain": [
       "Linear(in_features=6, out_features=1, bias=True)"
      ]
     },
     "execution_count": 475,
     "metadata": {},
     "output_type": "execute_result"
    }
   ],
   "execution_count": 475
  },
  {
   "cell_type": "code",
   "id": "2ed0efcc",
   "metadata": {
    "ExecuteTime": {
     "end_time": "2024-05-28T16:58:00.802578Z",
     "start_time": "2024-05-28T16:58:00.738721Z"
    }
   },
   "source": [
    "num_epochs = 25"
   ],
   "outputs": [],
   "execution_count": 476
  },
  {
   "cell_type": "code",
   "id": "68d4a799",
   "metadata": {
    "ExecuteTime": {
     "end_time": "2024-05-28T16:58:00.869713Z",
     "start_time": "2024-05-28T16:58:00.803584Z"
    }
   },
   "source": [
    "train_losses = []\n",
    "test_losses = []"
   ],
   "outputs": [],
   "execution_count": 477
  },
  {
   "cell_type": "code",
   "id": "dda3199b",
   "metadata": {
    "ExecuteTime": {
     "end_time": "2024-05-28T16:58:05.046735Z",
     "start_time": "2024-05-28T16:58:00.870720Z"
    }
   },
   "source": [
    "def calculate_loss(model, loss_fn, data_loader):\n",
    "    total_loss = 0.0\n",
    "    total_samples = 0\n",
    "    with torch.no_grad():\n",
    "        for inputs, targets in data_loader:\n",
    "            outputs = model(inputs)\n",
    "            loss = loss_fn(outputs, targets)\n",
    "            total_loss += loss.item() * inputs.size(0)\n",
    "            total_samples += inputs.size(0)\n",
    "    return total_loss / total_samples\n",
    "\n",
    "for epoch in range(num_epochs):\n",
    "    train_loss = 0.0\n",
    "    for inputs, targets in train_loader:\n",
    "        first_optimizer.zero_grad()\n",
    "        outputs = first_model(inputs)\n",
    "        loss = loss_fn1(outputs, targets)\n",
    "        loss.backward()\n",
    "        first_optimizer.step()\n",
    "        train_loss += loss.item() * inputs.size(0)\n",
    "    train_loss /= len(train_loader.dataset)\n",
    "    train_losses.append(train_loss)\n",
    "\n",
    "    first_model.eval()\n",
    "    test_loss = calculate_loss(first_model, loss_fn1, test_loader)\n",
    "    test_losses.append(test_loss)\n",
    "\n",
    "    print(f'Epoch {epoch+1}/{num_epochs}, Train Loss: {train_loss:.4f}, Test Loss: {test_loss:.4f}')"
   ],
   "outputs": [
    {
     "name": "stderr",
     "output_type": "stream",
     "text": [
      "C:\\Users\\yakov\\AppData\\Local\\Temp\\ipykernel_6140\\2088720507.py:11: FutureWarning: Series.__getitem__ treating keys as positions is deprecated. In a future version, integer keys will always be treated as labels (consistent with DataFrame behavior). To access a value by position, use `ser.iloc[pos]`\n",
      "  y = torch.tensor(self.targets.iloc[index], dtype=torch.float32)\n"
     ]
    },
    {
     "name": "stdout",
     "output_type": "stream",
     "text": [
      "Epoch 1/25, Train Loss: 44.6884, Test Loss: 19.7602\n",
      "Epoch 2/25, Train Loss: 12.8986, Test Loss: 6.4677\n",
      "Epoch 3/25, Train Loss: 5.0141, Test Loss: 3.2688\n",
      "Epoch 4/25, Train Loss: 2.9400, Test Loss: 2.4358\n",
      "Epoch 5/25, Train Loss: 2.2978, Test Loss: 2.1485\n",
      "Epoch 6/25, Train Loss: 2.0260, Test Loss: 1.9790\n",
      "Epoch 7/25, Train Loss: 1.8535, Test Loss: 1.8384\n",
      "Epoch 8/25, Train Loss: 1.7151, Test Loss: 1.7106\n",
      "Epoch 9/25, Train Loss: 1.5963, Test Loss: 1.5917\n",
      "Epoch 10/25, Train Loss: 1.4891, Test Loss: 1.4816\n",
      "Epoch 11/25, Train Loss: 1.3929, Test Loss: 1.3831\n",
      "Epoch 12/25, Train Loss: 1.3058, Test Loss: 1.2923\n",
      "Epoch 13/25, Train Loss: 1.2274, Test Loss: 1.2103\n",
      "Epoch 14/25, Train Loss: 1.1557, Test Loss: 1.1350\n",
      "Epoch 15/25, Train Loss: 1.0914, Test Loss: 1.0677\n",
      "Epoch 16/25, Train Loss: 1.0317, Test Loss: 1.0059\n",
      "Epoch 17/25, Train Loss: 0.9780, Test Loss: 0.9487\n",
      "Epoch 18/25, Train Loss: 0.9288, Test Loss: 0.8953\n",
      "Epoch 19/25, Train Loss: 0.8836, Test Loss: 0.8464\n",
      "Epoch 20/25, Train Loss: 0.8421, Test Loss: 0.8030\n",
      "Epoch 21/25, Train Loss: 0.8039, Test Loss: 0.7620\n",
      "Epoch 22/25, Train Loss: 0.7690, Test Loss: 0.7261\n",
      "Epoch 23/25, Train Loss: 0.7370, Test Loss: 0.6901\n",
      "Epoch 24/25, Train Loss: 0.7072, Test Loss: 0.6582\n",
      "Epoch 25/25, Train Loss: 0.6798, Test Loss: 0.6298\n"
     ]
    }
   ],
   "execution_count": 478
  },
  {
   "cell_type": "markdown",
   "id": "59c56eb8",
   "metadata": {},
   "source": "В данном случае, значение потерь на тестовой выборке (0.6298) немного ниже, чем на обучающей выборке (0.6798). Это может указывать на то, что модель хорошо обобщает данные на новых данных, и нет явных признаков переобучения. Разница в потерях не критически велика, что говорит о том, что модель может быть приемлемой для использования."
  },
  {
   "cell_type": "code",
   "id": "1d1decc8",
   "metadata": {
    "ExecuteTime": {
     "end_time": "2024-05-28T16:58:05.186210Z",
     "start_time": "2024-05-28T16:58:05.047801Z"
    }
   },
   "source": [
    "import seaborn as sns\n",
    "import matplotlib.pyplot as plt\n",
    "\n",
    "# Указание цветовой палитры\n",
    "palette = sns.color_palette(\"husl\")\n",
    "\n",
    "# Настройка цветовой палитры\n",
    "sns.set_palette(palette)\n",
    "\n",
    "# Построение графиков для обучающей и тестовой потерь\n",
    "plt.plot(range(1, num_epochs+1), train_losses, label='Обучающая потеря', color='blue', linestyle='-')\n",
    "plt.plot(range(1, num_epochs+1), test_losses, label='Тестовая потеря', color='green', linestyle='--')\n",
    "\n",
    "plt.xlabel('Эпоха')\n",
    "plt.ylabel('Потери')\n",
    "plt.title('Кривая обучения')\n",
    "plt.legend()\n",
    "plt.grid(True)\n",
    "plt.show()"
   ],
   "outputs": [
    {
     "data": {
      "text/plain": [
       "<Figure size 640x480 with 1 Axes>"
      ],
      "image/png": "[encoded data removed]"
     },
     "metadata": {},
     "output_type": "display_data"
    }
   ],
   "execution_count": 479
  },
  {
   "cell_type": "markdown",
   "id": "747ae8e1",
   "metadata": {},
   "source": [
    "## Нейросеть с одним скрытым слоем"
   ]
  },
  {
   "cell_type": "code",
   "id": "6bb36834",
   "metadata": {
    "ExecuteTime": {
     "end_time": "2024-05-28T16:58:05.190155Z",
     "start_time": "2024-05-28T16:58:05.186210Z"
    }
   },
   "source": [
    "hidden_size = 4"
   ],
   "outputs": [],
   "execution_count": 480
  },
  {
   "cell_type": "code",
   "id": "f3e22352",
   "metadata": {
    "ExecuteTime": {
     "end_time": "2024-05-28T16:58:05.215811Z",
     "start_time": "2024-05-28T16:58:05.191162Z"
    }
   },
   "source": [
    "second_model = nn.Sequential()\n",
    "second_model.add_module(\"first\", nn.Linear(input_size, hidden_size))\n",
    "second_model.add_module(\"first_activation\", nn.Sigmoid())\n",
    "second_model.add_module(\"second\", nn.Linear(hidden_size, output_size))"
   ],
   "outputs": [],
   "execution_count": 481
  },
  {
   "cell_type": "code",
   "id": "7a0c9e08",
   "metadata": {
    "ExecuteTime": {
     "end_time": "2024-05-28T16:58:05.242115Z",
     "start_time": "2024-05-28T16:58:05.216878Z"
    }
   },
   "source": [
    "loss_fn2 = nn.MSELoss()\n",
    "second_optimizer = torch.optim.Adam(second_model.parameters(), lr=learning_rate)\n",
    "second_model.train()"
   ],
   "outputs": [
    {
     "data": {
      "text/plain": [
       "Sequential(\n",
       "  (first): Linear(in_features=6, out_features=4, bias=True)\n",
       "  (first_activation): Sigmoid()\n",
       "  (second): Linear(in_features=4, out_features=1, bias=True)\n",
       ")"
      ]
     },
     "execution_count": 482,
     "metadata": {},
     "output_type": "execute_result"
    }
   ],
   "execution_count": 482
  },
  {
   "cell_type": "code",
   "id": "35e0eeba",
   "metadata": {
    "ExecuteTime": {
     "end_time": "2024-05-28T16:58:05.256555Z",
     "start_time": "2024-05-28T16:58:05.243123Z"
    }
   },
   "source": [
    "train_losses = []\n",
    "test_losses = []"
   ],
   "outputs": [],
   "execution_count": 483
  },
  {
   "cell_type": "code",
   "id": "fd99945c",
   "metadata": {
    "ExecuteTime": {
     "end_time": "2024-05-28T16:58:10.180246Z",
     "start_time": "2024-05-28T16:58:05.257563Z"
    }
   },
   "source": [
    "def calculate_loss(model, loss_fn, data_loader):\n",
    "    total_loss = 0.0\n",
    "    total_samples = 0\n",
    "    with torch.no_grad():\n",
    "        for inputs, targets in data_loader:\n",
    "            outputs = model(inputs)\n",
    "            loss = loss_fn(outputs, targets)\n",
    "            total_loss += loss.item() * inputs.size(0)\n",
    "            total_samples += inputs.size(0)\n",
    "    return total_loss / total_samples\n",
    "\n",
    "for epoch in range(num_epochs):\n",
    "    train_loss = 0.0\n",
    "    for inputs, targets in train_loader:\n",
    "        second_optimizer.zero_grad()\n",
    "        outputs = second_model(inputs)\n",
    "        loss = loss_fn2(outputs, targets)\n",
    "        loss.backward()\n",
    "        second_optimizer.step()\n",
    "        train_loss += loss.item() * inputs.size(0)\n",
    "    train_loss /= len(train_loader.dataset)\n",
    "    train_losses.append(train_loss)\n",
    "\n",
    "    first_model.eval()\n",
    "    test_loss = calculate_loss(second_model, loss_fn2, test_loader)\n",
    "    test_losses.append(test_loss)\n",
    "\n",
    "    print(f'Epoch {epoch+1}/{num_epochs}, Train Loss: {train_loss:.4f}, Test Loss: {test_loss:.4f}')"
   ],
   "outputs": [
    {
     "name": "stderr",
     "output_type": "stream",
     "text": [
      "C:\\Users\\yakov\\AppData\\Local\\Temp\\ipykernel_6140\\2088720507.py:11: FutureWarning: Series.__getitem__ treating keys as positions is deprecated. In a future version, integer keys will always be treated as labels (consistent with DataFrame behavior). To access a value by position, use `ser.iloc[pos]`\n",
      "  y = torch.tensor(self.targets.iloc[index], dtype=torch.float32)\n"
     ]
    },
    {
     "name": "stdout",
     "output_type": "stream",
     "text": [
      "Epoch 1/25, Train Loss: 74.6203, Test Loss: 65.8628\n",
      "Epoch 2/25, Train Loss: 60.6968, Test Loss: 51.9326\n",
      "Epoch 3/25, Train Loss: 47.1922, Test Loss: 39.4234\n",
      "Epoch 4/25, Train Loss: 35.5944, Test Loss: 29.2215\n",
      "Epoch 5/25, Train Loss: 26.3236, Test Loss: 21.2936\n",
      "Epoch 6/25, Train Loss: 19.1850, Test Loss: 15.2779\n",
      "Epoch 7/25, Train Loss: 13.7940, Test Loss: 10.8045\n",
      "Epoch 8/25, Train Loss: 9.7896, Test Loss: 7.5563\n",
      "Epoch 9/25, Train Loss: 6.8915, Test Loss: 5.2353\n",
      "Epoch 10/25, Train Loss: 4.8278, Test Loss: 3.6228\n",
      "Epoch 11/25, Train Loss: 3.3996, Test Loss: 2.5229\n",
      "Epoch 12/25, Train Loss: 2.4272, Test Loss: 1.8016\n",
      "Epoch 13/25, Train Loss: 1.7781, Test Loss: 1.3449\n",
      "Epoch 14/25, Train Loss: 1.3669, Test Loss: 1.0572\n",
      "Epoch 15/25, Train Loss: 1.1029, Test Loss: 0.8882\n",
      "Epoch 16/25, Train Loss: 0.9419, Test Loss: 0.7918\n",
      "Epoch 17/25, Train Loss: 0.8450, Test Loss: 0.7391\n",
      "Epoch 18/25, Train Loss: 0.7886, Test Loss: 0.7118\n",
      "Epoch 19/25, Train Loss: 0.7561, Test Loss: 0.6984\n",
      "Epoch 20/25, Train Loss: 0.7366, Test Loss: 0.6927\n",
      "Epoch 21/25, Train Loss: 0.7261, Test Loss: 0.6903\n",
      "Epoch 22/25, Train Loss: 0.7189, Test Loss: 0.6893\n",
      "Epoch 23/25, Train Loss: 0.7143, Test Loss: 0.6884\n",
      "Epoch 24/25, Train Loss: 0.7106, Test Loss: 0.6871\n",
      "Epoch 25/25, Train Loss: 0.7076, Test Loss: 0.6861\n"
     ]
    }
   ],
   "execution_count": 484
  },
  {
   "cell_type": "markdown",
   "id": "de3777aa",
   "metadata": {},
   "source": [
    "В данном случае, значения Train Loss и Test Loss очень близки друг к другу. Это может указывать на то, что модель не переобучена (так как ошибка на тренировочных данных не сильно ниже, чем на тестовых данных), но также значение loss близко к нулю, это указывает на то, что модель хорошо справляется с задачей. "
   ]
  },
  {
   "cell_type": "code",
   "id": "6a0cfe24",
   "metadata": {
    "ExecuteTime": {
     "end_time": "2024-05-28T16:58:10.340876Z",
     "start_time": "2024-05-28T16:58:10.181256Z"
    }
   },
   "source": [
    "import seaborn as sns\n",
    "import matplotlib.pyplot as plt\n",
    "\n",
    "# Указание цветовой палитры\n",
    "palette = sns.color_palette(\"husl\")\n",
    "\n",
    "# Настройка цветовой палитры\n",
    "sns.set_palette(palette)\n",
    "\n",
    "# Построение графика для обучающей потери с синей линией\n",
    "plt.plot(range(1, num_epochs+1), train_losses, label='Обучающая потеря', color='blue')\n",
    "\n",
    "# Построение графика для тестовой потери с зеленой пунктирной линией\n",
    "plt.plot(range(1, num_epochs+1), test_losses, label='Тестовая потеря', color='green', linestyle='--')\n",
    "\n",
    "plt.xlabel('Эпоха')\n",
    "plt.ylabel('Потери')\n",
    "plt.title('Кривая обучения')\n",
    "plt.legend()\n",
    "plt.grid(True)\n",
    "plt.show()"
   ],
   "outputs": [
    {
     "data": {
      "text/plain": [
       "<Figure size 640x480 with 1 Axes>"
      ],
      "image/png": "[encoded data removed]"
     },
     "metadata": {},
     "output_type": "display_data"
    }
   ],
   "execution_count": 485
  },
  {
   "cell_type": "markdown",
   "id": "04ebfe70",
   "metadata": {},
   "source": [
    "## Нейросеть с тремя скрытыми слоями"
   ]
  },
  {
   "cell_type": "code",
   "id": "fadf9959",
   "metadata": {
    "ExecuteTime": {
     "end_time": "2024-05-28T16:58:10.347295Z",
     "start_time": "2024-05-28T16:58:10.343887Z"
    }
   },
   "source": [
    "hidden_size1 = 5\n",
    "hidden_size2 = 4\n",
    "hidden_size3 = 2"
   ],
   "outputs": [],
   "execution_count": 486
  },
  {
   "cell_type": "code",
   "id": "be9e24f0",
   "metadata": {
    "ExecuteTime": {
     "end_time": "2024-05-28T16:58:10.373765Z",
     "start_time": "2024-05-28T16:58:10.348303Z"
    }
   },
   "source": [
    "third_model = nn.Sequential()\n",
    "third_model.add_module(\"first\", nn.Linear(input_size, hidden_size1))\n",
    "third_model.add_module(\"first_activation\", nn.Sigmoid())\n",
    "third_model.add_module(\"second\", nn.Linear(hidden_size1, hidden_size2))\n",
    "third_model.add_module(\"second_activation\", nn.Sigmoid())\n",
    "third_model.add_module(\"third\", nn.Linear(hidden_size2, hidden_size3))\n",
    "third_model.add_module(\"third_activation\", nn.Sigmoid())\n",
    "third_model.add_module(\"fourth\", nn.Linear(hidden_size3, output_size))"
   ],
   "outputs": [],
   "execution_count": 487
  },
  {
   "cell_type": "code",
   "id": "69d84f66",
   "metadata": {
    "ExecuteTime": {
     "end_time": "2024-05-28T16:58:10.387394Z",
     "start_time": "2024-05-28T16:58:10.374771Z"
    }
   },
   "source": [
    "loss_fn3 = nn.MSELoss()\n",
    "third_optimizer = torch.optim.Adam(third_model.parameters(), lr=learning_rate)\n",
    "third_model.train()"
   ],
   "outputs": [
    {
     "data": {
      "text/plain": [
       "Sequential(\n",
       "  (first): Linear(in_features=6, out_features=5, bias=True)\n",
       "  (first_activation): Sigmoid()\n",
       "  (second): Linear(in_features=5, out_features=4, bias=True)\n",
       "  (second_activation): Sigmoid()\n",
       "  (third): Linear(in_features=4, out_features=2, bias=True)\n",
       "  (third_activation): Sigmoid()\n",
       "  (fourth): Linear(in_features=2, out_features=1, bias=True)\n",
       ")"
      ]
     },
     "execution_count": 488,
     "metadata": {},
     "output_type": "execute_result"
    }
   ],
   "execution_count": 488
  },
  {
   "cell_type": "code",
   "id": "d4cad67e",
   "metadata": {
    "ExecuteTime": {
     "end_time": "2024-05-28T16:58:10.399826Z",
     "start_time": "2024-05-28T16:58:10.388403Z"
    }
   },
   "source": [
    "train_losses = []\n",
    "test_losses = []"
   ],
   "outputs": [],
   "execution_count": 489
  },
  {
   "cell_type": "code",
   "id": "e92dc9f3",
   "metadata": {
    "ExecuteTime": {
     "end_time": "2024-05-28T16:58:15.193935Z",
     "start_time": "2024-05-28T16:58:10.400833Z"
    }
   },
   "source": [
    "def calculate_loss(model, loss_fn, data_loader):\n",
    "    total_loss = 0.0\n",
    "    total_samples = 0\n",
    "    with torch.no_grad():\n",
    "        for inputs, targets in data_loader:\n",
    "            outputs = model(inputs)\n",
    "            loss = loss_fn(outputs, targets)\n",
    "            total_loss += loss.item() * inputs.size(0)\n",
    "            total_samples += inputs.size(0)\n",
    "    return total_loss / total_samples\n",
    "\n",
    "for epoch in range(num_epochs):\n",
    "    train_loss = 0.0\n",
    "    for inputs, targets in train_loader:\n",
    "        third_optimizer.zero_grad()\n",
    "        outputs = third_model(inputs)\n",
    "        loss = loss_fn3(outputs, targets)\n",
    "        loss.backward()\n",
    "        third_optimizer.step()\n",
    "        train_loss += loss.item() * inputs.size(0)\n",
    "    train_loss /= len(train_loader.dataset)\n",
    "    train_losses.append(train_loss)\n",
    "\n",
    "    first_model.eval()\n",
    "    test_loss = calculate_loss(third_model, loss_fn3, test_loader)\n",
    "    test_losses.append(test_loss)\n",
    "\n",
    "    print(f'Epoch {epoch+1}/{num_epochs}, Train Loss: {train_loss:.4f}, Test Loss: {test_loss:.4f}')"
   ],
   "outputs": [
    {
     "name": "stderr",
     "output_type": "stream",
     "text": [
      "C:\\Users\\yakov\\AppData\\Local\\Temp\\ipykernel_6140\\2088720507.py:11: FutureWarning: Series.__getitem__ treating keys as positions is deprecated. In a future version, integer keys will always be treated as labels (consistent with DataFrame behavior). To access a value by position, use `ser.iloc[pos]`\n",
      "  y = torch.tensor(self.targets.iloc[index], dtype=torch.float32)\n"
     ]
    },
    {
     "name": "stdout",
     "output_type": "stream",
     "text": [
      "Epoch 1/25, Train Loss: 86.6861, Test Loss: 81.4333\n",
      "Epoch 2/25, Train Loss: 79.2641, Test Loss: 73.4783\n",
      "Epoch 3/25, Train Loss: 70.6867, Test Loss: 64.3377\n",
      "Epoch 4/25, Train Loss: 60.9642, Test Loss: 54.3202\n",
      "Epoch 5/25, Train Loss: 51.1166, Test Loss: 45.2725\n",
      "Epoch 6/25, Train Loss: 42.8499, Test Loss: 38.0613\n",
      "Epoch 7/25, Train Loss: 36.1919, Test Loss: 32.1311\n",
      "Epoch 8/25, Train Loss: 30.6259, Test Loss: 27.1280\n",
      "Epoch 9/25, Train Loss: 25.9130, Test Loss: 22.8347\n",
      "Epoch 10/25, Train Loss: 21.8506, Test Loss: 19.1859\n",
      "Epoch 11/25, Train Loss: 18.3902, Test Loss: 16.0582\n",
      "Epoch 12/25, Train Loss: 15.4239, Test Loss: 13.3971\n",
      "Epoch 13/25, Train Loss: 12.9012, Test Loss: 11.1373\n",
      "Epoch 14/25, Train Loss: 10.7562, Test Loss: 9.2343\n",
      "Epoch 15/25, Train Loss: 8.9486, Test Loss: 7.6369\n",
      "Epoch 16/25, Train Loss: 7.4302, Test Loss: 6.3051\n",
      "Epoch 17/25, Train Loss: 6.1683, Test Loss: 5.1955\n",
      "Epoch 18/25, Train Loss: 5.1192, Test Loss: 4.2844\n",
      "Epoch 19/25, Train Loss: 4.2533, Test Loss: 3.5454\n",
      "Epoch 20/25, Train Loss: 3.5503, Test Loss: 2.9424\n",
      "Epoch 21/25, Train Loss: 2.9739, Test Loss: 2.4604\n",
      "Epoch 22/25, Train Loss: 2.5123, Test Loss: 2.0746\n",
      "Epoch 23/25, Train Loss: 2.1403, Test Loss: 1.7713\n",
      "Epoch 24/25, Train Loss: 1.8456, Test Loss: 1.5336\n",
      "Epoch 25/25, Train Loss: 1.6134, Test Loss: 1.3485\n"
     ]
    }
   ],
   "execution_count": 490
  },
  {
   "cell_type": "markdown",
   "id": "c1dda2d0",
   "metadata": {},
   "source": [
    "Разница между Train Loss и Test Loss не очень большая. В целом, такие значения могут свидетельствовать о том, что модель не достигла оптимальной производительности и возможно потребуется улучшения (например, увеличение эпох)."
   ]
  },
  {
   "cell_type": "code",
   "id": "1a8bf9a7",
   "metadata": {
    "ExecuteTime": {
     "end_time": "2024-05-28T16:58:15.343227Z",
     "start_time": "2024-05-28T16:58:15.194942Z"
    }
   },
   "source": [
    "import seaborn as sns\n",
    "import matplotlib.pyplot as plt\n",
    "\n",
    "# Указание цветовой палитры\n",
    "palette = sns.color_palette(\"husl\")\n",
    "\n",
    "# Настройка цветовой палитры\n",
    "sns.set_palette(palette)\n",
    "\n",
    "# Построение графика для потерь на обучающей выборке со сплошной линией\n",
    "plt.plot(range(1, num_epochs+1), train_losses, label='Потери на обучающей выборке', color='blue')\n",
    "\n",
    "# Построение графика для потерь на тестовой выборке с пунктирной линией\n",
    "plt.plot(range(1, num_epochs+1), test_losses, label='Потери на тестовой выборке', color='green', linestyle='--')\n",
    "\n",
    "plt.xlabel('Эпоха')\n",
    "plt.ylabel('Потери')\n",
    "plt.title('Кривая обучения')\n",
    "plt.legend()\n",
    "plt.show()"
   ],
   "outputs": [
    {
     "data": {
      "text/plain": [
       "<Figure size 640x480 with 1 Axes>"
      ],
      "image/png": "[encoded data removed]"
     },
     "metadata": {},
     "output_type": "display_data"
    }
   ],
   "execution_count": 491
  },
  {
   "cell_type": "markdown",
   "id": "0b70b28c",
   "metadata": {},
   "source": [
    "# 6. Метрики mae"
   ]
  },
  {
   "cell_type": "code",
   "id": "a9806d8a",
   "metadata": {
    "ExecuteTime": {
     "end_time": "2024-05-28T16:58:15.347458Z",
     "start_time": "2024-05-28T16:58:15.344234Z"
    }
   },
   "source": [
    "from sklearn.metrics import mean_absolute_error"
   ],
   "outputs": [],
   "execution_count": 492
  },
  {
   "cell_type": "markdown",
   "id": "29b653ed",
   "metadata": {},
   "source": [
    "## Однослойная нейросеть"
   ]
  },
  {
   "cell_type": "code",
   "id": "ad900454",
   "metadata": {
    "ExecuteTime": {
     "end_time": "2024-05-28T16:58:15.513020Z",
     "start_time": "2024-05-28T16:58:15.348465Z"
    }
   },
   "source": [
    "train_predictions = []\n",
    "train_targets = []\n",
    "\n",
    "for inputs, targets in train_loader:\n",
    "    predictions = first_model(inputs).detach().numpy()\n",
    "    train_predictions.extend(predictions)\n",
    "\n",
    "    train_targets.extend(targets.numpy())\n",
    "\n",
    "train_mae = mean_absolute_error(train_targets, train_predictions)\n",
    "print(\"Train test \\n MAE:\", train_mae)"
   ],
   "outputs": [
    {
     "name": "stdout",
     "output_type": "stream",
     "text": [
      "Train test \n",
      " MAE: 0.6425357\n"
     ]
    },
    {
     "name": "stderr",
     "output_type": "stream",
     "text": [
      "C:\\Users\\yakov\\AppData\\Local\\Temp\\ipykernel_6140\\2088720507.py:11: FutureWarning: Series.__getitem__ treating keys as positions is deprecated. In a future version, integer keys will always be treated as labels (consistent with DataFrame behavior). To access a value by position, use `ser.iloc[pos]`\n",
      "  y = torch.tensor(self.targets.iloc[index], dtype=torch.float32)\n"
     ]
    }
   ],
   "execution_count": 493
  },
  {
   "cell_type": "code",
   "id": "f64da68e",
   "metadata": {
    "ExecuteTime": {
     "end_time": "2024-05-28T16:58:15.557352Z",
     "start_time": "2024-05-28T16:58:15.514028Z"
    }
   },
   "source": [
    "test_predictions = []\n",
    "test_targets = []\n",
    "\n",
    "for inputs, targets in test_loader:\n",
    "    predictions = first_model(inputs).detach().numpy()\n",
    "    test_predictions.extend(predictions)\n",
    "    \n",
    "    test_targets.extend(targets.numpy())\n",
    "\n",
    "test_mae = mean_absolute_error(test_targets, test_predictions)\n",
    "print(\"Test test \\n MAE:\", test_mae)"
   ],
   "outputs": [
    {
     "name": "stdout",
     "output_type": "stream",
     "text": [
      "Test test \n",
      " MAE: 0.62320393\n"
     ]
    },
    {
     "name": "stderr",
     "output_type": "stream",
     "text": [
      "C:\\Users\\yakov\\AppData\\Local\\Temp\\ipykernel_6140\\2088720507.py:11: FutureWarning: Series.__getitem__ treating keys as positions is deprecated. In a future version, integer keys will always be treated as labels (consistent with DataFrame behavior). To access a value by position, use `ser.iloc[pos]`\n",
      "  y = torch.tensor(self.targets.iloc[index], dtype=torch.float32)\n"
     ]
    }
   ],
   "execution_count": 494
  },
  {
   "cell_type": "markdown",
   "id": "1fa08cbe",
   "metadata": {},
   "source": "В результате для тренировочной выборки была получена метрика mae, равная 0.62. Иэ этого следует, что предсказанные значения близки к истинным значениям. Кроме того для тестовой выборки значение метрики также недалеки от нуля, что указывает на то, что модель хорошо обучается на новых данных. В целом разница между MAE для тренировочного и тестового наборов данных не очень велика."
  },
  {
   "cell_type": "markdown",
   "id": "5829e54c",
   "metadata": {},
   "source": [
    "## Нейросеть с одним скрытым слоем"
   ]
  },
  {
   "cell_type": "code",
   "id": "3598d18e",
   "metadata": {
    "ExecuteTime": {
     "end_time": "2024-05-28T16:58:15.720444Z",
     "start_time": "2024-05-28T16:58:15.558360Z"
    }
   },
   "source": [
    "train_predictions = []\n",
    "train_targets = []\n",
    "\n",
    "for inputs, targets in train_loader:\n",
    "    predictions = second_model(inputs).detach().numpy()\n",
    "    train_predictions.extend(predictions)\n",
    "\n",
    "    train_targets.extend(targets.numpy())\n",
    "\n",
    "train_mae = mean_absolute_error(train_targets, train_predictions)\n",
    "print(\"Train test \\n MAE:\", train_mae)"
   ],
   "outputs": [
    {
     "name": "stderr",
     "output_type": "stream",
     "text": [
      "C:\\Users\\yakov\\AppData\\Local\\Temp\\ipykernel_6140\\2088720507.py:11: FutureWarning: Series.__getitem__ treating keys as positions is deprecated. In a future version, integer keys will always be treated as labels (consistent with DataFrame behavior). To access a value by position, use `ser.iloc[pos]`\n",
      "  y = torch.tensor(self.targets.iloc[index], dtype=torch.float32)\n"
     ]
    },
    {
     "name": "stdout",
     "output_type": "stream",
     "text": [
      "Train test \n",
      " MAE: 0.6720109\n"
     ]
    }
   ],
   "execution_count": 495
  },
  {
   "cell_type": "code",
   "id": "2d1f3453",
   "metadata": {
    "ExecuteTime": {
     "end_time": "2024-05-28T16:58:15.775347Z",
     "start_time": "2024-05-28T16:58:15.721953Z"
    }
   },
   "source": [
    "test_predictions = []\n",
    "test_targets = []\n",
    "\n",
    "for inputs, targets in test_loader:\n",
    "    predictions = second_model(inputs).detach().numpy()\n",
    "    test_predictions.extend(predictions)\n",
    "    \n",
    "    test_targets.extend(targets.numpy())\n",
    "\n",
    "test_mae = mean_absolute_error(test_targets, test_predictions)\n",
    "print(\"Test test \\n MAE:\", test_mae)"
   ],
   "outputs": [
    {
     "name": "stderr",
     "output_type": "stream",
     "text": [
      "C:\\Users\\yakov\\AppData\\Local\\Temp\\ipykernel_6140\\2088720507.py:11: FutureWarning: Series.__getitem__ treating keys as positions is deprecated. In a future version, integer keys will always be treated as labels (consistent with DataFrame behavior). To access a value by position, use `ser.iloc[pos]`\n",
      "  y = torch.tensor(self.targets.iloc[index], dtype=torch.float32)\n"
     ]
    },
    {
     "name": "stdout",
     "output_type": "stream",
     "text": [
      "Test test \n",
      " MAE: 0.66629475\n"
     ]
    }
   ],
   "execution_count": 496
  },
  {
   "cell_type": "markdown",
   "id": "f560080a",
   "metadata": {},
   "source": "Для тренировочной выборки средняя абсолютная ошибка равна 0.66. Иэ этого следует, что предсказанные значения близки к истинным значениям. В целом MAE для тренировочного набора близка к MAE для тестового наборов данных, что может свидетельствовать о том, что модель обобщает данные довольно неплохо."
  },
  {
   "cell_type": "markdown",
   "id": "60229b33",
   "metadata": {},
   "source": [
    "## Нейросеть с тремя скрытыми слоями"
   ]
  },
  {
   "cell_type": "code",
   "id": "3a2f444d",
   "metadata": {
    "ExecuteTime": {
     "end_time": "2024-05-28T16:58:15.936745Z",
     "start_time": "2024-05-28T16:58:15.776873Z"
    }
   },
   "source": [
    "train_predictions = []\n",
    "train_targets = []\n",
    "\n",
    "for inputs, targets in train_loader:\n",
    "    predictions = third_model(inputs).detach().numpy()\n",
    "    train_predictions.extend(predictions)\n",
    "\n",
    "    train_targets.extend(targets.numpy())\n",
    "\n",
    "train_mae = mean_absolute_error(train_targets, train_predictions)\n",
    "print(\"Train test \\n MAE:\", train_mae)"
   ],
   "outputs": [
    {
     "name": "stderr",
     "output_type": "stream",
     "text": [
      "C:\\Users\\yakov\\AppData\\Local\\Temp\\ipykernel_6140\\2088720507.py:11: FutureWarning: Series.__getitem__ treating keys as positions is deprecated. In a future version, integer keys will always be treated as labels (consistent with DataFrame behavior). To access a value by position, use `ser.iloc[pos]`\n",
      "  y = torch.tensor(self.targets.iloc[index], dtype=torch.float32)\n"
     ]
    },
    {
     "name": "stdout",
     "output_type": "stream",
     "text": [
      "Train test \n",
      " MAE: 1.0302798\n"
     ]
    }
   ],
   "execution_count": 497
  },
  {
   "cell_type": "code",
   "id": "77ecc390",
   "metadata": {
    "ExecuteTime": {
     "end_time": "2024-05-28T16:58:15.982735Z",
     "start_time": "2024-05-28T16:58:15.937753Z"
    }
   },
   "source": [
    "test_predictions = []\n",
    "test_targets = []\n",
    "\n",
    "for inputs, targets in test_loader:\n",
    "    predictions = third_model(inputs).detach().numpy()\n",
    "    test_predictions.extend(predictions)\n",
    "\n",
    "    test_targets.extend(targets.numpy())\n",
    "\n",
    "test_mae = mean_absolute_error(test_targets, test_predictions)\n",
    "print(\"Test test \\n MAE:\", test_mae)"
   ],
   "outputs": [
    {
     "name": "stdout",
     "output_type": "stream",
     "text": [
      "Test test \n",
      " MAE: 0.94844997\n"
     ]
    },
    {
     "name": "stderr",
     "output_type": "stream",
     "text": [
      "C:\\Users\\yakov\\AppData\\Local\\Temp\\ipykernel_6140\\2088720507.py:11: FutureWarning: Series.__getitem__ treating keys as positions is deprecated. In a future version, integer keys will always be treated as labels (consistent with DataFrame behavior). To access a value by position, use `ser.iloc[pos]`\n",
      "  y = torch.tensor(self.targets.iloc[index], dtype=torch.float32)\n"
     ]
    }
   ],
   "execution_count": 498
  },
  {
   "cell_type": "markdown",
   "id": "6a2a75c4",
   "metadata": {},
   "source": [
    "Результаты метрик достаточно близки к друг другу, что свидетельствует о том, что модель в целом хорошо справилась с обучением."
   ]
  },
  {
   "metadata": {
    "ExecuteTime": {
     "end_time": "2024-05-28T16:58:15.986249Z",
     "start_time": "2024-05-28T16:58:15.983743Z"
    }
   },
   "cell_type": "code",
   "source": "",
   "id": "82a77150",
   "outputs": [],
   "execution_count": 498
  }
 ],
 "metadata": {
  "kernelspec": {
   "display_name": "Python 3 (ipykernel)",
   "language": "python",
   "name": "python3"
  },
  "language_info": {
   "codemirror_mode": {
    "name": "ipython",
    "version": 3
   },
   "file_extension": ".py",
   "mimetype": "text/x-python",
   "name": "python",
   "nbconvert_exporter": "python",
   "pygments_lexer": "ipython3",
   "version": "3.11.5"
  }
 },
 "nbformat": 4,
 "nbformat_minor": 5
}
