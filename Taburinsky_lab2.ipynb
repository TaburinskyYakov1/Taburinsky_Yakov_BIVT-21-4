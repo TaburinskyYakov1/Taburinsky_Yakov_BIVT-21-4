{
 "cells": [
  {
   "cell_type": "markdown",
   "id": "bc9520d2",
   "metadata": {},
   "source": [
    "# Лабораторная работа №2\n",
    "\n",
    "ФИО:Табуринский Яков Андреевич \n",
    "Группа:БИВТ-21-4 \n",
    "\n",
    "Отправлять можно следующими способами:\n",
    "1. Запушить этот ноутбук в GitHub в репозиторий, где у вас лежат ноутбуки с лабами\n",
    "\n",
    "Deadlines:\n",
    "- Занятие №6 в семестре (Занятие №2 очное)\n",
    "\n",
    "Что необходимо сделать:  \n",
    "**В общих чертах просто провести EDA** (но обычно это не бывает просто)\n",
    "## Читайте задание внимательно\n",
    "\n",
    "Исходные данные:\n",
    "1. В [табличке](https://docs.google.com/spreadsheets/d/11600OkqdRzxc-xZmFTuBs099VeAqU_GlE0Bx6bBlIRE/edit?usp=sharing) необходимо узнать название своего датасета \n",
    "2. Скачать нужны вам данные можно в [Google Drive](https://drive.google.com/drive/folders/1Phm-Fq1GL-VX7NS-DCEMRh_Fo1wU7DQ9?usp=sharing)\n",
    "  \n",
    "---\n",
    "Теперь по пунктам, что я от вас жду:  \n",
    "1. **Найти** в таблице (из исходных данных) название своего датасета\n",
    "2. **Описать** кратко постановку задачи, что от вас хотят. Какие есть переменные. Целевое событие непрерывно (предсказываем число от -$\\infty$ до $\\infty$) либо дискретно (предсказываем класс из конечного множества вариантов, например 0 или 1, или какое-то число в диапазоне [0; 10])\n",
    "3. Построить распределение целевой переменной в виде гистограммы, сделать промежуточные выводы (обратите внимание на однородоность распределения и возможный дисбаланс). Посчитайте количество уникальных значений целевой переменной.\n",
    "4. Выведите основные статистики по переменным в датасете (для этого есть готовый метод в pandas, он считает count, min, max, mean, 25%, 50% и пр.). Это делается **одним** методом (вы его знаете).\n",
    "5. Выведите основную информацию по датасету (сколько всего колонок, каких они типов, сколько в них non-null элементов). Это делается **одним** методом (вы его знаете).\n",
    "6. Посчитайте количество пропусков (NaN, Null, null, None) элементов во всех колонках. Предположите, почему эти пропуски могли возникнуть, и как их можно было бы заменить. \n",
    "7. Постройте гистограммы 5 любых признаков (из множества `X`, или как оно изначально у нас называется `data.data`). Если видите какое-то смещение, несимметричность и прочее, опишите это словами в ноутбуке.\n",
    "8. Постройте графики зависимости 5 любых (на ваш выбор) переменных от целевой переменной (если переменных меньше, чем 5, то сделайте столько, сколько получится). Сделайте вывод, можно ли использовать эти переменные для прогнозирования целевой переменной (иначе говоря, есть ли какая-то взаимосвязь между y-переменной и X-переменной)  \n",
    "9. _extra_ (необязательно). Посмотрите на зависимость двух переменных одновременно от целевой переменной. То есть по оси OX должна быть переменная $X_{n}$, по оси OY -- переменная $X_{k}$. И у вас будет две кривые (два облака точек) в разрезе целевой переменной. Либо вы можете построить похожее для категориальных признаков, но необходимо будет прочитать про heatmap. \n",
    "\n",
    "---\n",
    "P.S.  \n",
    "Просьба -- делать каждое задание в отдельных ячейках и с отдельными заголовками (как пункт 1 и 2 в этом ноутбуке) типа  \n",
    "- Заголовок\n",
    "- Ячейки с кодом\n",
    "- Другой заголовок\n",
    "- Другие ячейки с кодом"
   ]
  },
  {
   "cell_type": "markdown",
   "id": "28b51062",
   "metadata": {},
   "source": [
    "## 0. Пример импорта данных"
   ]
  },
  {
   "cell_type": "code",
   "execution_count": null,
   "id": "406597a7",
   "metadata": {},
   "outputs": [],
   "source": [
    "import pandas as pd\n",
    "import matplotlib.pyplot as plt\n",
    "\n",
    "data = pd.read_csv('https://github.com/TaburinskyYakov1/Taburinsky_Yakov_BIVT-21-4/raw/main/insurance.csv')"
   ]
  },
  {
   "cell_type": "markdown",
   "id": "0d119028",
   "metadata": {},
   "source": [
    "## 2. Описание постановки задачи"
   ]
  },
  {
   "cell_type": "code",
   "execution_count": null,
   "id": "d92464d0",
   "metadata": {},
   "outputs": [],
   "source": [
    "**Age:** возраст;  \n",
    "**Sex:** пол;  \n",
    "**Bmi:** индекс массы тела;  \n",
    "**Children:** количество детей;  \n",
    "**Smoker:** наличие вредной привычки (курения);  \n",
    "**Region:** район проживания;  \n",
    "**Charges:** индивидуальные раходы.\n",
    "\n",
    "Предсказать стоимость страховки (Charges) и понять, какие признаки (Age, BMI, Children) оказывают на неё наиболее сильное влияние."
   ]
  },
  {
   "cell_type": "markdown",
   "id": "34931f43",
   "metadata": {},
   "source": [
    "## 3. Распределение целевой переменной"
   ]
  },
  {
   "cell_type": "code",
   "execution_count": null,
   "id": "67a611d0",
   "metadata": {},
   "outputs": [],
   "source": [
    "plt.hist(data['charges'], bins=30, color='lightgreen', edgecolor='darkgreen', linewidth=1.5, alpha=0.7)\n",
    "plt.title('Charges Distribution')\n",
    "plt.xlabel('Charges')\n",
    "plt.ylabel('Count')\n",
    "plt.show()\n"
   ]
  },
  {
   "cell_type": "markdown",
   "source": [
    "![Image Title](C:\\Users\\yakov\\PycharmProjects\\lab2 neyronka\\myplot.png)"
   ],
   "metadata": {
    "collapsed": false
   },
   "id": "390e0ce8840c6ff0"
  },
  {
   "cell_type": "markdown",
   "source": [
    "Гистограмма распределения индивидуальных медицинских расходов не является симметричной и не следует нормальному распределению. Распределение затрат смещено вправо, что указывает на то, что большинство случаев страхования имеют относительно невысокие затраты в диапазоне от 5000 до 13000 долларов. Однако существует небольшое количество случаев, где затраты значительно превышают данную область, что создает неравномерность в размере выплат страхователей.\n",
    "\n",
    "На гистограмме наблюдаются два \"пика\" частот, что указывает на то, что значения переменной сосредоточены в нескольких интервалах, что делает распределение неравномерным."
   ],
   "metadata": {
    "collapsed": false
   },
   "id": "1ddc6aaa4924c950"
  },
  {
   "cell_type": "code",
   "outputs": [],
   "source": [
    "print(f'Количество уникальных значений целевой функции: {data[\"charges\"].nunique()}')\n",
    "print(f'Количество дубликатов значений целевой функции: {data[\"charges\"].duplicated().sum()}')"
   ],
   "metadata": {
    "collapsed": false
   },
   "id": "5cf31e332b7a0dc"
  },
  {
   "cell_type": "markdown",
   "source": [
    "Количество уникальных значений целевой функции: 1337\n",
    "Количество дубликатов значений целевой функции: 1"
   ],
   "metadata": {
    "collapsed": false
   },
   "id": "744d9dab0aee17be"
  },
  {
   "cell_type": "markdown",
   "source": [
    "## 4. Основные статистики по переменным"
   ],
   "metadata": {
    "collapsed": false
   },
   "id": "4cecc7c4b1c27578"
  },
  {
   "cell_type": "code",
   "outputs": [],
   "source": [
    "data.describe()"
   ],
   "metadata": {
    "collapsed": false
   },
   "id": "772f32d3cadb8242"
  },
  {
   "cell_type": "markdown",
   "source": [
    "               age          bmi     children       charges\n",
    "count  1338.000000  1338.000000  1338.000000   1338.000000\n",
    "mean     39.207025    30.663397     1.094918  13270.422265\n",
    "std      14.049960     6.098187     1.205493  12110.011237\n",
    "min      18.000000    15.960000     0.000000   1121.873900\n",
    "25%      27.000000    26.296250     0.000000   4740.287150\n",
    "50%      39.000000    30.400000     1.000000   9382.033000\n",
    "75%      51.000000    34.693750     2.000000  16639.912515\n",
    "max      64.000000    53.130000     5.000000  63770.428010\n"
   ],
   "metadata": {
    "collapsed": false
   },
   "id": "3afbc9e5b808040a"
  },
  {
   "cell_type": "markdown",
   "source": [
    "## 5. Основная информация"
   ],
   "metadata": {
    "collapsed": false
   },
   "id": "ef891b344de48d50"
  },
  {
   "cell_type": "code",
   "outputs": [],
   "source": [
    "data.info()"
   ],
   "metadata": {
    "collapsed": false
   },
   "id": "a9f897376e1643be"
  },
  {
   "cell_type": "markdown",
   "source": [
    "<class 'pandas.core.frame.DataFrame'>\n",
    "RangeIndex: 1338 entries, 0 to 1337\n",
    "Data columns (total 7 columns):\n",
    " #   Column    Non-Null Count  Dtype  \n",
    "---  ------    --------------  -----  \n",
    " 0   age       1338 non-null   int64  \n",
    " 1   sex       1338 non-null   object \n",
    " 2   bmi       1338 non-null   float64\n",
    " 3   children  1338 non-null   int64  \n",
    " 4   smoker    1338 non-null   object \n",
    " 5   region    1338 non-null   object \n",
    " 6   charges   1338 non-null   float64\n",
    "dtypes: float64(2), int64(2), object(3)"
   ],
   "metadata": {
    "collapsed": false
   },
   "id": "95d2086e876ee207"
  },
  {
   "cell_type": "markdown",
   "source": [
    "## 6. Количество пропусков"
   ],
   "metadata": {
    "collapsed": false
   },
   "id": "f97c2bd9a9ca8681"
  },
  {
   "cell_type": "code",
   "outputs": [],
   "source": [
    "data.isna().sum() #по каждому столбцу\n",
    "data.isna().sum().sum() #общее"
   ],
   "metadata": {
    "collapsed": false
   },
   "id": "3c9d6970b14d7e86"
  },
  {
   "cell_type": "markdown",
   "source": [
    "Пропущенные значения по каждому столбцу:\n",
    "age         0\n",
    "sex         0\n",
    "bmi         0\n",
    "children    0\n",
    "smoker      0\n",
    "region      0\n",
    "charges     0\n",
    "dtype: int64\n",
    "\n",
    "Общее количество пропущенных значений: 0"
   ],
   "metadata": {
    "collapsed": false
   },
   "id": "487d0e066a161ead"
  },
  {
   "cell_type": "markdown",
   "source": [
    "## 7. Гистограммы"
   ],
   "metadata": {
    "collapsed": false
   },
   "id": "3962d111e0f6e57c"
  },
  {
   "cell_type": "code",
   "outputs": [],
   "source": [
    "plt.hist(data['age'], color='lightgreen', edgecolor='darkgreen')\n",
    "plt.title('Age Distribution')\n",
    "plt.xlabel('Age')\n",
    "plt.ylabel('Count')\n",
    "plt.show()"
   ],
   "metadata": {
    "collapsed": false
   },
   "id": "f55b22bbd4f17565"
  },
  {
   "cell_type": "markdown",
   "source": [
    "![Image Title](C:\\Users\\yakov\\PycharmProjects\\lab2 neyronka\\myplot2.png)"
   ],
   "metadata": {
    "collapsed": false
   },
   "id": "3ffad626127f512d"
  },
  {
   "cell_type": "markdown",
   "source": [
    "Гистограмма демонстрирует некоторую асимметрию в распределении. Форма распределения может быть характеризована как «случайная», поскольку у данных нет четкой стройности. Однако важно отметить, что наибольшее количество страховых случаев приходится на возрастную группу от 18 до 22 лет.\n"
   ],
   "metadata": {
    "collapsed": false
   },
   "id": "8447db5cba32f03"
  },
  {
   "cell_type": "code",
   "outputs": [],
   "source": [
    "plt.hist(data['bmi'], color='lightgreen', edgecolor='darkgreen')\n",
    "plt.title('BMI Distribution')\n",
    "plt.xlabel('BMI')\n",
    "plt.ylabel('Count')\n",
    "plt.show()"
   ],
   "metadata": {
    "collapsed": false
   },
   "id": "b119125d6323e358"
  },
  {
   "cell_type": "markdown",
   "source": [
    "![Image Title](C:\\Users\\yakov\\PycharmProjects\\lab2 neyronka\\myplot3.png)"
   ],
   "metadata": {
    "collapsed": false
   },
   "id": "8c8cea6192e39c08"
  },
  {
   "cell_type": "markdown",
   "source": [
    "Анализируя вторую гистограмму, можно отметить, что значения индекса массы тела равномерно распределены относительно среднего значения, что свидетельствует о симметричности. Также стоит отметить отсутствие явных выбросов и склонность распределения к более плотному скоплению вокруг средней точки, что может указывать на то, что данное распределение приближается к нормальному."
   ],
   "metadata": {
    "collapsed": false
   },
   "id": "72d6e3d94184deed"
  },
  {
   "cell_type": "code",
   "outputs": [],
   "source": [
    "plt.hist(data['children'], color='lightgreen', edgecolor='darkgreen')\n",
    "plt.title('Children Distribution')\n",
    "plt.xlabel('Children')\n",
    "plt.ylabel('Count')\n",
    "plt.show()"
   ],
   "metadata": {
    "collapsed": false
   },
   "id": "1f662592c0af5727"
  },
  {
   "cell_type": "markdown",
   "source": [
    "![Image Title](C:\\Users\\yakov\\PycharmProjects\\lab2 neyronka\\myplot4.png)"
   ],
   "metadata": {
    "collapsed": false
   },
   "id": "5fd46eb4a390a36e"
  },
  {
   "cell_type": "markdown",
   "source": [
    "\n",
    "Гистограмма несимметрична, смещена вправо. Распределение страхователей по количеству детей схоже с распределением целевой переменной. Это указывает на возможную важность этого признака при прогнозировании целевой переменной."
   ],
   "metadata": {
    "collapsed": false
   },
   "id": "3924c399a004cba1"
  },
  {
   "cell_type": "markdown",
   "source": [
    "## 8. Графики зависимости"
   ],
   "metadata": {
    "collapsed": false
   },
   "id": "827be61fc060eb57"
  },
  {
   "cell_type": "code",
   "outputs": [],
   "source": [
    "fig, axs = plt.subplots(nrows=2, ncols=2, figsize=(15, 10))\n",
    "\n",
    "scatter_kwargs = {\n",
    "    's': 50,\n",
    "    'alpha': 0.6,\n",
    "    'c': 'blue',\n",
    "    'edgecolors': 'w'\n",
    "}\n",
    "\n",
    "axs[0, 0].scatter(data['age'], data['charges'], **scatter_kwargs)\n",
    "axs[0, 0].set_xlabel('Age')\n",
    "axs[0, 0].set_ylabel('Charges')\n",
    "\n",
    "axs[0, 1].scatter(data['bmi'], data['charges'], **scatter_kwargs)\n",
    "axs[0, 1].set_xlabel('BMI')\n",
    "axs[0, 1].set_ylabel('Charges')\n",
    "\n",
    "axs[1, 0].scatter(data['children'], data['charges'], **scatter_kwargs)\n",
    "axs[1, 0].set_xlabel('Children')\n",
    "axs[1, 0].set_ylabel('Charges')\n",
    "\n",
    "plt.tight_layout()\n",
    "plt.show()"
   ],
   "metadata": {
    "collapsed": false
   },
   "id": "c8b2d8768b52dc29"
  },
  {
   "cell_type": "markdown",
   "source": [
    "![Image Title](C:\\Users\\yakov\\PycharmProjects\\lab2 neyronka\\myplot8.png)"
   ],
   "metadata": {
    "collapsed": false
   },
   "id": "311f15697cac058a"
  },
  {
   "cell_type": "markdown",
   "source": [
    "Age: Показывает выраженную положительную корреляцию между возрастом и расходами. С возрастом люди обычно тратят больше на медицинское обслуживание, и она увеличивается по мере старения. Тем не менее, среди различных возрастных групп есть значительные различия в уровне расходов.\n",
    "\n",
    "BMI: Также отражает положительную связь с расходами. У людей с BMI выше 35 обычно наблюдаются более высокие расходы по сравнению с теми, у кого BMI ниже этой отметки. В то же время, большинство людей имеют BMI ниже 35, поэтому эта закономерность не распространяется на всех.\n",
    "\n",
    "Children: Показывает заметную обратную зависимость от расходов. У людей без детей как правило расходы на медицину выше, чем у родителей. Это может быть связано с различными факторами, включая степень страхования и обслуживания."
   ],
   "metadata": {
    "collapsed": false
   },
   "id": "e38ced05fb79d08c"
  },
  {
   "cell_type": "markdown",
   "source": [
    "## 9. Зависимость двух переменных от целевой переменной"
   ],
   "metadata": {
    "collapsed": false
   },
   "id": "70197583d6c693e"
  },
  {
   "cell_type": "code",
   "outputs": [],
   "source": [
    "num_columns = data.select_dtypes(include=['int64', 'float64'])\n",
    "correlation_matrix = num_columns.corr()\n",
    "\n",
    "plt.figure(figsize=(8, 6))\n",
    "sns.heatmap(correlation_matrix, annot=True, fmt=\".2f\", cmap='coolwarm')\n",
    "\n",
    "plt.title('Correlation Heatmap of Insurance Data')\n",
    "plt.show()"
   ],
   "metadata": {
    "collapsed": false
   },
   "id": "bd14d8334bf16e1b"
  },
  {
   "cell_type": "markdown",
   "source": [
    "![Image Title](C:\\Users\\yakov\\PycharmProjects\\lab2 neyronka\\myplot9.png)"
   ],
   "metadata": {
    "collapsed": false
   },
   "id": "d76a1891f7e747ff"
  }
 ],
 "metadata": {
  "kernelspec": {
   "display_name": "nn-ml-bachelor-2024-venv",
   "language": "python",
   "name": "nn-ml-bachelor-2024-venv"
  },
  "language_info": {
   "codemirror_mode": {
    "name": "ipython",
    "version": 3
   },
   "file_extension": ".py",
   "mimetype": "text/x-python",
   "name": "python",
   "nbconvert_exporter": "python",
   "pygments_lexer": "ipython3",
   "version": "3.9.6"
  }
 },
 "nbformat": 4,
 "nbformat_minor": 5
}
